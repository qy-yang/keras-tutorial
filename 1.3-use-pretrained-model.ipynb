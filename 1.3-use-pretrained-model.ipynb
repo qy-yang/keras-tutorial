{
 "cells": [
  {
   "cell_type": "markdown",
   "metadata": {},
   "source": [
    "Pretrained model in Keras:\n",
    "- VGG16\n",
    "- GG19\n",
    "- ResNet50\n",
    "- InceptionV3\n",
    "- InceptionResNetV2\n",
    "- Xception\n",
    "- MobileNet"
   ]
  },
  {
   "cell_type": "code",
   "execution_count": 1,
   "metadata": {
    "scrolled": true
   },
   "outputs": [
    {
     "name": "stderr",
     "output_type": "stream",
     "text": [
      "Using TensorFlow backend.\n"
     ]
    },
    {
     "name": "stdout",
     "output_type": "stream",
     "text": [
      "Platform version:  1.0.8\n",
      "Keras version:  2.2.5\n",
      "Tensorflow version:  1.14.0\n"
     ]
    }
   ],
   "source": [
    "import platform\n",
    "import keras\n",
    "import tensorflow\n",
    "\n",
    "print('Platform version: ', platform.__version__)\n",
    "print('Keras version: ', keras.__version__)\n",
    "print('Tensorflow version: ', tensorflow.__version__)\n",
    "\n",
    "def warn(*args, **kwargs):\n",
    "    pass\n",
    "\n",
    "%matplotlib inline\n",
    "import matplotlib.pyplot as plt\n",
    "import matplotlib.image as mpimg\n",
    "import numpy as np\n",
    "from IPython.display import Image\n",
    "import warnings\n",
    "\n",
    "# warnings.filterwarnings('ignore')\n",
    "warnings.warn = warn"
   ]
  },
  {
   "cell_type": "markdown",
   "metadata": {},
   "source": [
    "# VGG16"
   ]
  },
  {
   "cell_type": "code",
   "execution_count": 2,
   "metadata": {
    "scrolled": true
   },
   "outputs": [
    {
     "name": "stderr",
     "output_type": "stream",
     "text": [
      "WARNING: Logging before flag parsing goes to stderr.\n",
      "W0906 11:04:27.476571 140229915375360 deprecation_wrapper.py:119] From /hpc/home/ephyan/anaconda3/lib/python3.7/site-packages/keras/backend/tensorflow_backend.py:66: The name tf.get_default_graph is deprecated. Please use tf.compat.v1.get_default_graph instead.\n",
      "\n",
      "W0906 11:04:27.489396 140229915375360 deprecation_wrapper.py:119] From /hpc/home/ephyan/anaconda3/lib/python3.7/site-packages/keras/backend/tensorflow_backend.py:541: The name tf.placeholder is deprecated. Please use tf.compat.v1.placeholder instead.\n",
      "\n",
      "W0906 11:04:27.491722 140229915375360 deprecation_wrapper.py:119] From /hpc/home/ephyan/anaconda3/lib/python3.7/site-packages/keras/backend/tensorflow_backend.py:4432: The name tf.random_uniform is deprecated. Please use tf.random.uniform instead.\n",
      "\n",
      "W0906 11:04:27.558470 140229915375360 deprecation_wrapper.py:119] From /hpc/home/ephyan/anaconda3/lib/python3.7/site-packages/keras/backend/tensorflow_backend.py:4267: The name tf.nn.max_pool is deprecated. Please use tf.nn.max_pool2d instead.\n",
      "\n",
      "W0906 11:04:28.923303 140229915375360 deprecation_wrapper.py:119] From /hpc/home/ephyan/anaconda3/lib/python3.7/site-packages/keras/backend/tensorflow_backend.py:190: The name tf.get_default_session is deprecated. Please use tf.compat.v1.get_default_session instead.\n",
      "\n",
      "W0906 11:04:28.924537 140229915375360 deprecation_wrapper.py:119] From /hpc/home/ephyan/anaconda3/lib/python3.7/site-packages/keras/backend/tensorflow_backend.py:197: The name tf.ConfigProto is deprecated. Please use tf.compat.v1.ConfigProto instead.\n",
      "\n"
     ]
    }
   ],
   "source": [
    "# Load model\n",
    "from keras.applications.vgg16 import VGG16\n",
    "\n",
    "model_vgg16 = VGG16()"
   ]
  },
  {
   "cell_type": "code",
   "execution_count": 3,
   "metadata": {},
   "outputs": [],
   "source": [
    "# Load data\n",
    "from keras.preprocessing.image import load_img\n",
    "\n",
    "img_file = 'data/evimg16tf.jpg'\n",
    "image = load_img(img_file, target_size=(224, 224))"
   ]
  },
  {
   "cell_type": "code",
   "execution_count": 4,
   "metadata": {},
   "outputs": [
    {
     "name": "stdout",
     "output_type": "stream",
     "text": [
      "Image.shape (224, 224, 3)\n"
     ]
    }
   ],
   "source": [
    "# Convert image to numpy array\n",
    "from keras.preprocessing.image import img_to_array\n",
    "\n",
    "image = img_to_array(image)  # RGB\n",
    "\n",
    "print('Image.shape', image.shape)"
   ]
  },
  {
   "cell_type": "code",
   "execution_count": 5,
   "metadata": {},
   "outputs": [
    {
     "name": "stdout",
     "output_type": "stream",
     "text": [
      "image.shape:  (1, 224, 224, 3)\n"
     ]
    }
   ],
   "source": [
    "# VGG16 is expecting input tensor has shape (batch, img_height, img_width, img_channels)\n",
    "image = image.reshape(1, *(image.shape))\n",
    "\n",
    "print('image.shape: ', image.shape)"
   ]
  },
  {
   "cell_type": "code",
   "execution_count": 6,
   "metadata": {},
   "outputs": [],
   "source": [
    "# Keras provide a preprocess_input method for image input\n",
    "from keras.applications.vgg16 import preprocess_input\n",
    "\n",
    "image = preprocess_input(image)"
   ]
  },
  {
   "cell_type": "code",
   "execution_count": 7,
   "metadata": {},
   "outputs": [],
   "source": [
    "# Predict\n",
    "y_pred = model_vgg16.predict(image)"
   ]
  },
  {
   "cell_type": "code",
   "execution_count": 8,
   "metadata": {},
   "outputs": [
    {
     "name": "stdout",
     "output_type": "stream",
     "text": [
      "African_elephant 30.40%\n"
     ]
    }
   ],
   "source": [
    "# Decode prediction\n",
    "from keras.applications.vgg16 import decode_predictions\n",
    "\n",
    "label = decode_predictions(y_pred)\n",
    "\n",
    "# Get the label with highest probability\n",
    "label = label[0][0]\n",
    "\n",
    "print('{} {:.2%}'.format(label[1], label[2]))"
   ]
  },
  {
   "cell_type": "markdown",
   "metadata": {},
   "source": [
    "# VGG19"
   ]
  },
  {
   "cell_type": "code",
   "execution_count": 9,
   "metadata": {},
   "outputs": [
    {
     "name": "stdout",
     "output_type": "stream",
     "text": [
      "image.shape:  (224, 224, 3)\n",
      "image.shape:  (1, 224, 224, 3)\n",
      "tusker 53.61%\n"
     ]
    }
   ],
   "source": [
    "from keras.applications import VGG19\n",
    "from keras.preprocessing.image import image, load_img, img_to_array\n",
    "from keras.applications.vgg19 import preprocess_input, decode_predictions\n",
    "\n",
    "model_vgg19 = VGG19(weights='imagenet')\n",
    "\n",
    "image = load_img('data/evimg16tf.jpg', target_size=(224, 224))\n",
    "image = img_to_array(image)\n",
    "print('image.shape: ', image.shape)\n",
    "\n",
    "image = image.reshape(1, *(image.shape))\n",
    "print('image.shape: ', image.shape)\n",
    "\n",
    "image = preprocess_input(image)\n",
    "\n",
    "y_pred = model_vgg19.predict(image)\n",
    "label = decode_predictions(y_pred)\n",
    "label = label[0][0]\n",
    "\n",
    "print('{} {:.2%}'.format(label[1], label[2]))"
   ]
  },
  {
   "cell_type": "markdown",
   "metadata": {},
   "source": [
    "# Resnet50"
   ]
  },
  {
   "cell_type": "code",
   "execution_count": 10,
   "metadata": {},
   "outputs": [
    {
     "name": "stderr",
     "output_type": "stream",
     "text": [
      "W0906 11:04:33.079756 140229915375360 deprecation_wrapper.py:119] From /hpc/home/ephyan/anaconda3/lib/python3.7/site-packages/keras/backend/tensorflow_backend.py:2041: The name tf.nn.fused_batch_norm is deprecated. Please use tf.compat.v1.nn.fused_batch_norm instead.\n",
      "\n"
     ]
    },
    {
     "name": "stdout",
     "output_type": "stream",
     "text": [
      "image.shape:  (224, 224, 3)\n",
      "image.shape:  (1, 224, 224, 3)\n",
      "African_elephant 44.265777%\n"
     ]
    }
   ],
   "source": [
    "from keras.applications import ResNet50\n",
    "from keras.applications.resnet50 import preprocess_input, decode_predictions\n",
    "from keras.preprocessing.image import load_img, img_to_array, image\n",
    "\n",
    "model_resnet50 = ResNet50(weights='imagenet')\n",
    "\n",
    "# Load image\n",
    "image = load_img('data/evimg16tf.jpg', target_size=(224, 224))\n",
    "image = img_to_array(image)\n",
    "print('image.shape: ', image.shape)\n",
    "image = image.reshape(1, *(image.shape))\n",
    "print('image.shape: ', image.shape)\n",
    "image = preprocess_input(image)\n",
    "\n",
    "y_pred = model_resnet50.predict(image)\n",
    "label = decode_predictions(y_pred)[0][0]\n",
    "print('{} {:2%}'.format(label[1], label[2]))"
   ]
  },
  {
   "cell_type": "markdown",
   "metadata": {},
   "source": [
    "# InceptionV3"
   ]
  },
  {
   "cell_type": "code",
   "execution_count": null,
   "metadata": {},
   "outputs": [
    {
     "name": "stderr",
     "output_type": "stream",
     "text": [
      "W0906 11:04:42.132006 140229915375360 deprecation_wrapper.py:119] From /hpc/home/ephyan/anaconda3/lib/python3.7/site-packages/keras/backend/tensorflow_backend.py:4271: The name tf.nn.avg_pool is deprecated. Please use tf.nn.avg_pool2d instead.\n",
      "\n"
     ]
    }
   ],
   "source": [
    "from keras.applications.inception_v3 import InceptionV3\n",
    "from keras.preprocessing.image import load_img, img_to_array\n",
    "from keras.applications.inception_v3 import preprocess_input, decode_predictions\n",
    "\n",
    "model_inception_v3 = InceptionV3(weights='imagenet')\n",
    "\n",
    "# Requred input size of inception_v3 is (299, 299)\n",
    "image = load_img('data/evimg16tf.jpg', target_size=(299, 299))\n",
    "image = img_to_array(image)\n",
    "print('image.shape: ', image.shape)\n",
    "image = image.reshape(1, *(image.shape))\n",
    "print('image.shape: ', image.shape)\n",
    "image = preprocess_input(image)\n",
    "\n",
    "y_pred = model_inception_v3.predict(image)\n",
    "label = decode_predictions(y_pred)[0][0]\n",
    "print('{} {:2%}'.format(label[1], label[2]))"
   ]
  },
  {
   "cell_type": "markdown",
   "metadata": {},
   "source": [
    "# InceptionResNetV2"
   ]
  },
  {
   "cell_type": "code",
   "execution_count": null,
   "metadata": {
    "scrolled": true
   },
   "outputs": [],
   "source": [
    "from keras.applications.inception_resnet_v2 import InceptionResNetV2\n",
    "from keras.applications.inception_resnet_v2 import preprocess_input, decode_predictions\n",
    "from keras.preprocessing.image import load_img, img_to_array\n",
    "\n",
    "model_inception_resnet_v2 = InceptionResNetV2(weights='imagenet')\n",
    "\n",
    "image = load_img('data/evimg16tf.jpg', target_size=(299, 299))\n",
    "image = img_to_array(image)\n",
    "print('image.shape: ', image.shape)\n",
    "image = image.reshape(1, *(image.shape))\n",
    "print('image.shape: ', image.shape)\n",
    "image = preprocess_input(image)\n",
    "\n",
    "y_pred = model_inception_resnet_v2.predict(image)\n",
    "label = decode_predictions(y_pred)[0][0]\n",
    "print('{} {:.2%}'.format(label[1], label[2]))"
   ]
  },
  {
   "cell_type": "markdown",
   "metadata": {},
   "source": [
    "# MobileNet"
   ]
  },
  {
   "cell_type": "code",
   "execution_count": null,
   "metadata": {},
   "outputs": [],
   "source": [
    "from keras.applications.mobilenet import MobileNet\n",
    "from keras.applications.mobilenet import preprocess_input, decode_predictions\n",
    "from keras.preprocessing.image import load_img, img_to_array\n",
    "\n",
    "model_mobilenet = MobileNet(weights='imagenet')\n",
    "\n",
    "image = load_img('data/evimg16tf.jpg', target_size=(224, 224))\n",
    "image = img_to_array(image)\n",
    "print('image.shape: ', image.shape)\n",
    "image = image.reshape(1, *(image.shape))\n",
    "print('image.shape: ', image.shape)\n",
    "image = preprocess_input(image)\n",
    "\n",
    "y_pred = model_mobilenet.predict(image)\n",
    "label = decode_predictions(y_pred)[0][0]\n",
    "print('{} {:.2%}'.format(label[1], label[2]))"
   ]
  },
  {
   "cell_type": "code",
   "execution_count": null,
   "metadata": {},
   "outputs": [],
   "source": []
  }
 ],
 "metadata": {
  "kernelspec": {
   "display_name": "Python 3",
   "language": "python",
   "name": "python3"
  },
  "language_info": {
   "codemirror_mode": {
    "name": "ipython",
    "version": 3
   },
   "file_extension": ".py",
   "mimetype": "text/x-python",
   "name": "python",
   "nbconvert_exporter": "python",
   "pygments_lexer": "ipython3",
   "version": "3.7.3"
  }
 },
 "nbformat": 4,
 "nbformat_minor": 2
}
