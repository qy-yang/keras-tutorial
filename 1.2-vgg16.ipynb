{
 "cells": [
  {
   "cell_type": "markdown",
   "metadata": {},
   "source": [
    "This notebook is to construct VGG16 from scratch.\n",
    "\n",
    "VGG16 is proposed in this paper [VERY DEEP CONVOLUTIONAL NETWORKS FOR LARGE-SCALE IMAGE RECOGNITION](https://arxiv.org/pdf/1409.1556v6.pdf)\n",
    "\n",
    "The archtecture of VGG is described as below"
   ]
  },
  {
   "cell_type": "markdown",
   "metadata": {},
   "source": [
    "![Convblock Archetecture](https://camo.githubusercontent.com/8ccb13de98fad6d8b305188f9603545334825a50/68747470733a2f2f63646e2d696d616765732d312e6d656469756d2e636f6d2f6d61782f313630302f312a44777357426d47434937714c396569376e5f536458412e706e67)\n",
    "\n",
    "![VGG Archetecture](https://camo.githubusercontent.com/32eced0507e1df9bc303e4e321d902b636ead335/68747470733a2f2f63646e2d696d616765732d312e6d656469756d2e636f6d2f6d61782f313630302f312a4652643966444d315458546857325638796c4c3756512e706e67)"
   ]
  },
  {
   "cell_type": "code",
   "execution_count": 1,
   "metadata": {},
   "outputs": [
    {
     "name": "stdout",
     "output_type": "stream",
     "text": [
      "Platform: Linux-4.4.0-159-generic-x86_64-with-debian-stretch-sid\n",
      "Tensorflow version: 1.14.0\n",
      "Keras version: 2.2.5\n"
     ]
    },
    {
     "name": "stderr",
     "output_type": "stream",
     "text": [
      "Using TensorFlow backend.\n"
     ]
    }
   ],
   "source": [
    "import platform\n",
    "import tensorflow as tf\n",
    "import keras\n",
    "\n",
    "print('Platform: {}'.format(platform.platform()))\n",
    "print('Tensorflow version: {}'.format(tf.__version__))\n",
    "print('Keras version: {}'.format(keras.__version__))\n",
    "\n",
    "%matplotlib inline\n",
    "import matplotlib.pyplot as plt\n",
    "import matplotlib.image as mpimg\n",
    "import numpy as np\n",
    "from IPython.display import Image\n",
    "import warnings\n",
    "\n",
    "warnings.filterwarnings('ignore')"
   ]
  },
  {
   "cell_type": "markdown",
   "metadata": {},
   "source": [
    "# Sequential"
   ]
  },
  {
   "cell_type": "code",
   "execution_count": 2,
   "metadata": {},
   "outputs": [
    {
     "name": "stderr",
     "output_type": "stream",
     "text": [
      "WARNING: Logging before flag parsing goes to stderr.\n",
      "W0905 10:54:34.445343 139805999286016 deprecation_wrapper.py:119] From /hpc/home/ephyan/anaconda3/lib/python3.7/site-packages/keras/backend/tensorflow_backend.py:541: The name tf.placeholder is deprecated. Please use tf.compat.v1.placeholder instead.\n",
      "\n",
      "W0905 10:54:34.461631 139805999286016 deprecation_wrapper.py:119] From /hpc/home/ephyan/anaconda3/lib/python3.7/site-packages/keras/backend/tensorflow_backend.py:4432: The name tf.random_uniform is deprecated. Please use tf.random.uniform instead.\n",
      "\n",
      "W0905 10:54:34.485801 139805999286016 deprecation_wrapper.py:119] From /hpc/home/ephyan/anaconda3/lib/python3.7/site-packages/keras/backend/tensorflow_backend.py:4267: The name tf.nn.max_pool is deprecated. Please use tf.nn.max_pool2d instead.\n",
      "\n"
     ]
    },
    {
     "name": "stdout",
     "output_type": "stream",
     "text": [
      "Model: \"vgg16-sequential\"\n",
      "_________________________________________________________________\n",
      "Layer (type)                 Output Shape              Param #   \n",
      "=================================================================\n",
      "block1_conv1 (Conv2D)        (None, 224, 224, 64)      1792      \n",
      "_________________________________________________________________\n",
      "block1_conv2 (Conv2D)        (None, 224, 224, 64)      36928     \n",
      "_________________________________________________________________\n",
      "block1_pool (MaxPooling2D)   (None, 112, 112, 64)      0         \n",
      "_________________________________________________________________\n",
      "block2_conv1 (Conv2D)        (None, 112, 112, 128)     73856     \n",
      "_________________________________________________________________\n",
      "block2_conv2 (Conv2D)        (None, 112, 112, 128)     147584    \n",
      "_________________________________________________________________\n",
      "block2_pool (MaxPooling2D)   (None, 56, 56, 128)       0         \n",
      "_________________________________________________________________\n",
      "block3_conv1 (Conv2D)        (None, 56, 56, 256)       295168    \n",
      "_________________________________________________________________\n",
      "block3_conv2 (Conv2D)        (None, 56, 56, 256)       590080    \n",
      "_________________________________________________________________\n",
      "block3_conv3 (Conv2D)        (None, 56, 56, 256)       590080    \n",
      "_________________________________________________________________\n",
      "block3_pool (MaxPooling2D)   (None, 28, 28, 256)       0         \n",
      "_________________________________________________________________\n",
      "block4_conv1 (Conv2D)        (None, 28, 28, 512)       1180160   \n",
      "_________________________________________________________________\n",
      "block4_conv2 (Conv2D)        (None, 28, 28, 512)       2359808   \n",
      "_________________________________________________________________\n",
      "block4_conv3 (Conv2D)        (None, 28, 28, 512)       2359808   \n",
      "_________________________________________________________________\n",
      "block4_pool (MaxPooling2D)   (None, 14, 14, 512)       0         \n",
      "_________________________________________________________________\n",
      "block5_conv1 (Conv2D)        (None, 14, 14, 512)       2359808   \n",
      "_________________________________________________________________\n",
      "block5_conv2 (Conv2D)        (None, 14, 14, 512)       2359808   \n",
      "_________________________________________________________________\n",
      "block5_conv3 (Conv2D)        (None, 14, 14, 512)       2359808   \n",
      "_________________________________________________________________\n",
      "block5_pool (MaxPooling2D)   (None, 7, 7, 512)         0         \n",
      "_________________________________________________________________\n",
      "flatten (Flatten)            (None, 25088)             0         \n",
      "_________________________________________________________________\n",
      "fc1 (Dense)                  (None, 4096)              102764544 \n",
      "_________________________________________________________________\n",
      "fc2 (Dense)                  (None, 4096)              16781312  \n",
      "_________________________________________________________________\n",
      "fc3 (Dense)                  (None, 1000)              4097000   \n",
      "=================================================================\n",
      "Total params: 138,357,544\n",
      "Trainable params: 138,357,544\n",
      "Non-trainable params: 0\n",
      "_________________________________________________________________\n"
     ]
    }
   ],
   "source": [
    "import keras\n",
    "from keras.models import Sequential\n",
    "from keras.layers import Dense, Activation, Dropout, Flatten\n",
    "from keras.layers import Conv2D, MaxPool2D\n",
    "from keras.utils import plot_model\n",
    "\n",
    "input_shape = (224, 224, 3)\n",
    "\n",
    "model = Sequential(name='vgg16-sequential')\n",
    "\n",
    "# First block\n",
    "model.add(Conv2D(64, kernel_size=3, padding='same', activation='relu', input_shape=input_shape, name='block1_conv1'))\n",
    "model.add(Conv2D(64, kernel_size=3, padding='same', activation='relu', name='block1_conv2'))\n",
    "model.add(MaxPool2D(pool_size=(2, 2), strides=2, name='block1_pool'))\n",
    "\n",
    "# Second block\n",
    "model.add(Conv2D(128, kernel_size=3, padding='same', activation='relu', name='block2_conv1'))\n",
    "model.add(Conv2D(128, kernel_size=3, padding='same', activation='relu', name='block2_conv2'))\n",
    "model.add(MaxPool2D(pool_size=(2, 2), strides=2, name='block2_pool'))\n",
    "\n",
    "# Third block\n",
    "model.add(Conv2D(256, kernel_size=3, padding='same', activation='relu', name='block3_conv1'))\n",
    "model.add(Conv2D(256, kernel_size=3, padding='same', activation='relu', name='block3_conv2'))\n",
    "model.add(Conv2D(256, kernel_size=3, padding='same', activation='relu', name='block3_conv3'))\n",
    "model.add(MaxPool2D(pool_size=(2, 2), strides=2, name='block3_pool'))\n",
    "\n",
    "# Forth block\n",
    "model.add(Conv2D(512, kernel_size=3, padding='same', activation='relu', name='block4_conv1'))\n",
    "model.add(Conv2D(512, kernel_size=3, padding='same', activation='relu', name='block4_conv2'))\n",
    "model.add(Conv2D(512, kernel_size=3, padding='same', activation='relu', name='block4_conv3'))\n",
    "model.add(MaxPool2D(pool_size=(2, 2), strides=2, name='block4_pool'))\n",
    "\n",
    "# Fifth block\n",
    "model.add(Conv2D(512, kernel_size=3, padding='same', activation='relu', name='block5_conv1'))\n",
    "model.add(Conv2D(512, kernel_size=3, padding='same', activation='relu', name='block5_conv2'))\n",
    "model.add(Conv2D(512, kernel_size=3, padding='same', activation='relu', name='block5_conv3'))\n",
    "model.add(MaxPool2D(pool_size=(2, 2), strides=2, name='block5_pool'))\n",
    "\n",
    "# Dense layers\n",
    "model.add(Flatten(name='flatten'))\n",
    "model.add(Dense(4096, activation='relu', name='fc1'))\n",
    "model.add(Dense(4096, activation='relu', name='fc2'))\n",
    "model.add(Dense(1000, activation='softmax', name='fc3'))\n",
    "\n",
    "model.summary()"
   ]
  },
  {
   "cell_type": "markdown",
   "metadata": {},
   "source": [
    "# Functional API"
   ]
  },
  {
   "cell_type": "code",
   "execution_count": 3,
   "metadata": {},
   "outputs": [
    {
     "name": "stdout",
     "output_type": "stream",
     "text": [
      "Model: \"vgg16-funcapi\"\n",
      "_________________________________________________________________\n",
      "Layer (type)                 Output Shape              Param #   \n",
      "=================================================================\n",
      "img_input (InputLayer)       (None, 224, 224, 3)       0         \n",
      "_________________________________________________________________\n",
      "block1_conv1 (Conv2D)        (None, 224, 224, 64)      1792      \n",
      "_________________________________________________________________\n",
      "block1_conv2 (Conv2D)        (None, 224, 224, 64)      36928     \n",
      "_________________________________________________________________\n",
      "block1_pool (MaxPooling2D)   (None, 112, 112, 64)      0         \n",
      "_________________________________________________________________\n",
      "block2_conv1 (Conv2D)        (None, 112, 112, 128)     73856     \n",
      "_________________________________________________________________\n",
      "block2_conv2 (Conv2D)        (None, 112, 112, 128)     147584    \n",
      "_________________________________________________________________\n",
      "block2_pool (MaxPooling2D)   (None, 56, 56, 128)       0         \n",
      "_________________________________________________________________\n",
      "block3_conv1 (Conv2D)        (None, 56, 56, 256)       295168    \n",
      "_________________________________________________________________\n",
      "block3_conv2 (Conv2D)        (None, 56, 56, 256)       590080    \n",
      "_________________________________________________________________\n",
      "block3_conv3 (Conv2D)        (None, 56, 56, 256)       590080    \n",
      "_________________________________________________________________\n",
      "block3_pool (MaxPooling2D)   (None, 28, 28, 256)       0         \n",
      "_________________________________________________________________\n",
      "block4_conv1 (Conv2D)        (None, 28, 28, 512)       1180160   \n",
      "_________________________________________________________________\n",
      "block4_conv2 (Conv2D)        (None, 28, 28, 512)       2359808   \n",
      "_________________________________________________________________\n",
      "block4_conv3 (Conv2D)        (None, 28, 28, 512)       2359808   \n",
      "_________________________________________________________________\n",
      "block4_pool (MaxPooling2D)   (None, 14, 14, 512)       0         \n",
      "_________________________________________________________________\n",
      "block5_conv1 (Conv2D)        (None, 14, 14, 512)       2359808   \n",
      "_________________________________________________________________\n",
      "block5_conv2 (Conv2D)        (None, 14, 14, 512)       2359808   \n",
      "_________________________________________________________________\n",
      "block5_conv3 (Conv2D)        (None, 14, 14, 512)       2359808   \n",
      "_________________________________________________________________\n",
      "block5_pool (MaxPooling2D)   (None, 7, 7, 512)         0         \n",
      "_________________________________________________________________\n",
      "flatten (Flatten)            (None, 25088)             0         \n",
      "_________________________________________________________________\n",
      "fc1 (Dense)                  (None, 4096)              102764544 \n",
      "_________________________________________________________________\n",
      "fc2 (Dense)                  (None, 4096)              16781312  \n",
      "_________________________________________________________________\n",
      "output (Dense)               (None, 1000)              4097000   \n",
      "=================================================================\n",
      "Total params: 138,357,544\n",
      "Trainable params: 138,357,544\n",
      "Non-trainable params: 0\n",
      "_________________________________________________________________\n"
     ]
    }
   ],
   "source": [
    "import keras\n",
    "from keras.models import Model\n",
    "from keras.layers import Dense, Flatten, Activation, Dropout, Input\n",
    "from keras.layers import Conv2D, MaxPool2D\n",
    "\n",
    "input_shape = (224, 224, 3)\n",
    "img_input = Input(shape=input_shape, name='img_input')\n",
    "\n",
    "# First block\n",
    "x = Conv2D(64, kernel_size=3, padding='same', activation='relu', name='block1_conv1')(img_input)\n",
    "x = Conv2D(64, kernel_size=3, padding='same', activation='relu', name='block1_conv2')(x)\n",
    "x = MaxPool2D(pool_size=2, strides=2, name='block1_pool')(x)\n",
    "\n",
    "# Second block\n",
    "x = Conv2D(128, kernel_size=3, padding='same', activation='relu', name='block2_conv1')(x)\n",
    "x = Conv2D(128, kernel_size=3, padding='same', activation='relu', name='block2_conv2')(x)\n",
    "x = MaxPool2D(pool_size=2, strides=2, name='block2_pool')(x)\n",
    "\n",
    "# Third block\n",
    "x = Conv2D(256, kernel_size=3, padding='same', activation='relu', name='block3_conv1')(x)\n",
    "x = Conv2D(256, kernel_size=3, padding='same', activation='relu', name='block3_conv2')(x)\n",
    "x = Conv2D(256, kernel_size=3, padding='same', activation='relu', name='block3_conv3')(x)\n",
    "x = MaxPool2D(pool_size=2, strides=2, name='block3_pool')(x)\n",
    "\n",
    "# Fourth block\n",
    "x = Conv2D(512, kernel_size=3, padding='same', activation='relu', name='block4_conv1')(x)\n",
    "x = Conv2D(512, kernel_size=3, padding='same', activation='relu', name='block4_conv2')(x)\n",
    "x = Conv2D(512, kernel_size=3, padding='same', activation='relu', name='block4_conv3')(x)\n",
    "x = MaxPool2D(pool_size=2, strides=2, name='block4_pool')(x)\n",
    "\n",
    "# Fifth block\n",
    "x = Conv2D(512, kernel_size=3, padding='same', activation='relu', name='block5_conv1')(x)\n",
    "x = Conv2D(512, kernel_size=3, padding='same', activation='relu', name='block5_conv2')(x)\n",
    "x = Conv2D(512, kernel_size=3, padding='same', activation='relu', name='block5_conv3')(x)\n",
    "x = MaxPool2D(pool_size=2, strides=2, name='block5_pool')(x)\n",
    "\n",
    "# Dense layers\n",
    "x = Flatten(name='flatten')(x)\n",
    "x = Dense(4096, activation='relu', name='fc1')(x)\n",
    "x = Dense(4096, activation='relu', name='fc2')(x)\n",
    "x = Dense(1000, activation='softmax', name='output')(x)\n",
    "\n",
    "model = Model(input=img_input, outputs=x, name='vgg16-funcapi')\n",
    "\n",
    "model.summary()"
   ]
  },
  {
   "cell_type": "code",
   "execution_count": null,
   "metadata": {},
   "outputs": [],
   "source": []
  }
 ],
 "metadata": {
  "kernelspec": {
   "display_name": "Python 3",
   "language": "python",
   "name": "python3"
  },
  "language_info": {
   "codemirror_mode": {
    "name": "ipython",
    "version": 3
   },
   "file_extension": ".py",
   "mimetype": "text/x-python",
   "name": "python",
   "nbconvert_exporter": "python",
   "pygments_lexer": "ipython3",
   "version": "3.7.3"
  }
 },
 "nbformat": 4,
 "nbformat_minor": 2
}
